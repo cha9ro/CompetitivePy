{
 "cells": [
  {
   "attachments": {},
   "cell_type": "markdown",
   "metadata": {},
   "source": [
    "# 1"
   ]
  },
  {
   "cell_type": "code",
   "execution_count": null,
   "metadata": {},
   "outputs": [],
   "source": [
    "nums = [1,2,3,4,5]\n",
    "target = 18\n",
    "\n",
    "d = {}\n",
    "for i, num in enumerate(nums):\n",
    "    if num in d.keys():\n",
    "        print(d[num], i)\n",
    "    else:\n",
    "        d[target - num] = i"
   ]
  },
  {
   "attachments": {},
   "cell_type": "markdown",
   "metadata": {},
   "source": [
    "# 2"
   ]
  },
  {
   "cell_type": "code",
   "execution_count": null,
   "metadata": {},
   "outputs": [],
   "source": [
    "# Definition for singly-linked list.\n",
    "from typing import Optional\n",
    "\n",
    "class ListNode:\n",
    "    def __init__(self, val=0, next=None):\n",
    "        self.val = val\n",
    "        self.next = next\n",
    "class Solution:\n",
    "    def addTwoNumbers(self, l1: Optional[ListNode], l2: Optional[ListNode]) -> Optional[ListNode]:\n",
    "        output = []\n",
    "        carry = 0\n",
    "        while l1 != None or l2 != None or carry == 1:\n",
    "            val1 = l1.val if l1 is not None else 0\n",
    "            val2 = l2.val if l2 is not None else 0\n",
    "            temp = val1 + val2 + carry\n",
    "            output.append(temp%10)\n",
    "            carry = 1 if temp >= 10 else 0\n",
    "            l1 = l1.next if l1 is not None else None\n",
    "            l2 = l2.next if l2 is not None else None\n",
    "        nodes = [ListNode(val) for val in output]\n",
    "        for i, node in enumerate(nodes[:-1]):\n",
    "            node.next = nodes[i+1]\n",
    "        return nodes[0]\n"
   ]
  },
  {
   "cell_type": "code",
   "execution_count": null,
   "metadata": {},
   "outputs": [],
   "source": [
    "def create_nodes(vals):\n",
    "    nodes = [ListNode(val) for val in vals]\n",
    "    for i, node in enumerate(nodes[:-1]):\n",
    "        node.next = nodes[i+1]\n",
    "    return nodes"
   ]
  },
  {
   "cell_type": "code",
   "execution_count": null,
   "metadata": {},
   "outputs": [],
   "source": [
    "nodes1 = create_nodes([2,4,3])\n",
    "nodes2 = create_nodes([5,6,4])"
   ]
  },
  {
   "cell_type": "code",
   "execution_count": null,
   "metadata": {},
   "outputs": [],
   "source": [
    "sol = Solution()\n",
    "sol.addTwoNumbers(nodes1[0], nodes2[0])"
   ]
  },
  {
   "attachments": {},
   "cell_type": "markdown",
   "metadata": {},
   "source": [
    "# 3"
   ]
  },
  {
   "cell_type": "code",
   "execution_count": 14,
   "metadata": {},
   "outputs": [],
   "source": [
    "s = \"pwwkew\""
   ]
  },
  {
   "cell_type": "code",
   "execution_count": 15,
   "metadata": {},
   "outputs": [
    {
     "name": "stdout",
     "output_type": "stream",
     "text": [
      "3\n"
     ]
    }
   ],
   "source": [
    "length = 0\n",
    "for i, c in enumerate(s):\n",
    "    appearances = [c]\n",
    "    if i < len(s)-1:\n",
    "        for t in s[i+1:]:\n",
    "            if t in appearances:\n",
    "                length = max(length, len(appearances))\n",
    "                break\n",
    "            else:\n",
    "                appearances.append(t)\n",
    "    length = max(length, len(appearances))\n",
    "print(length)"
   ]
  },
  {
   "cell_type": "code",
   "execution_count": null,
   "metadata": {},
   "outputs": [],
   "source": [
    "left = 0\n",
    "appeared = set()\n",
    "length = 0\n",
    "for right in range(len(s[:-1])):\n",
    "    print(f\"right: {s[right]}, appeared: {appeared}\")\n",
    "    if s[right] in appeared:\n",
    "        while s[right] in appeared and left < right:\n",
    "            print(f\"removing {s[left]} from {appeared}\")\n",
    "            appeared.remove(s[left])\n",
    "            left += 1\n",
    "    else:\n",
    "        appeared.add(s[right])\n",
    "        length = max(length, len(appeared))\n",
    "print(length)"
   ]
  },
  {
   "cell_type": "code",
   "execution_count": null,
   "metadata": {},
   "outputs": [],
   "source": [
    "left = 0\n",
    "appeared = set()\n",
    "length = 0\n",
    "for right, c in enumerate(s):\n",
    "    while c in appeared and left < right:\n",
    "        appeared.remove(s[left])\n",
    "        left += 1\n",
    "    appeared.add(c)\n",
    "    length = max(length, len(appeared))\n",
    "print(length)"
   ]
  },
  {
   "attachments": {},
   "cell_type": "markdown",
   "metadata": {},
   "source": [
    "# 4"
   ]
  },
  {
   "cell_type": "code",
   "execution_count": 18,
   "metadata": {},
   "outputs": [],
   "source": [
    "nums1 = [1,3]\n",
    "nums2 = [2,7]"
   ]
  },
  {
   "cell_type": "code",
   "execution_count": null,
   "metadata": {},
   "outputs": [],
   "source": [
    "i1 = 0\n",
    "i2 = 0\n",
    "merged = []\n",
    "n1 = len(nums1)\n",
    "n2 = len(nums2)\n",
    "n = n1 + n2\n",
    "while i1 < n1 or i2 < n2:\n",
    "    if i1 >= n1:\n",
    "        merged.append(nums2[i2])\n",
    "        i2 += 1\n",
    "    elif i2 >= n2:\n",
    "        merged.append(nums1[i1])\n",
    "        i1 += 1\n",
    "    elif nums1[i1] < nums2[i2]:\n",
    "        merged.append(nums1[i1])\n",
    "        i1 += 1\n",
    "    else:\n",
    "        merged.append(nums2[i2])\n",
    "        i2 += 1\n",
    "print(merged)\n",
    "if n%2 != 0:\n",
    "    print(merged[n//2])\n",
    "else:\n",
    "    print((merged[n//2]+merged[n//2-1])/2)\n"
   ]
  },
  {
   "cell_type": "code",
   "execution_count": null,
   "metadata": {},
   "outputs": [],
   "source": [
    "i1 = 0\n",
    "i2 = 0\n",
    "merged = []\n",
    "n1 = len(nums1)\n",
    "n2 = len(nums2)\n",
    "n = n1 + n2\n",
    "while (i1 < n1 or i2 < n2) and ((i1 + i2) < n//2 + 1):\n",
    "    if i1 >= n1:\n",
    "        merged.append(nums2[i2])\n",
    "        i2 += 1\n",
    "    elif i2 >= n2:\n",
    "        merged.append(nums1[i1])\n",
    "        i1 += 1\n",
    "    elif nums1[i1] < nums2[i2]:\n",
    "        merged.append(nums1[i1])\n",
    "        i1 += 1\n",
    "    else:\n",
    "        merged.append(nums2[i2])\n",
    "        i2 += 1\n",
    "print(merged)\n",
    "if n%2 != 0:\n",
    "    print(merged[n//2])\n",
    "else:\n",
    "    print((merged[n//2]+merged[n//2-1])/2)\n"
   ]
  },
  {
   "attachments": {},
   "cell_type": "markdown",
   "metadata": {},
   "source": [
    "# 5"
   ]
  },
  {
   "cell_type": "code",
   "execution_count": null,
   "metadata": {},
   "outputs": [],
   "source": []
  }
 ],
 "metadata": {
  "kernelspec": {
   "display_name": ".venv",
   "language": "python",
   "name": "python3"
  },
  "language_info": {
   "codemirror_mode": {
    "name": "ipython",
    "version": 3
   },
   "file_extension": ".py",
   "mimetype": "text/x-python",
   "name": "python",
   "nbconvert_exporter": "python",
   "pygments_lexer": "ipython3",
   "version": "3.11.1"
  },
  "orig_nbformat": 4
 },
 "nbformat": 4,
 "nbformat_minor": 2
}
